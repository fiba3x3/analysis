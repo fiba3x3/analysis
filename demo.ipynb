{
 "cells": [
  {
   "cell_type": "raw",
   "id": "46da70a5",
   "metadata": {},
   "source": [
    "---\n",
    "title: 🚀 Demo notebook\n",
    "description: Simple notebook with widgets demo\n",
    "show-code: False\n",
    "params:\n",
    "    year:\n",
    "        input: slider\n",
    "        label: Please select the year\n",
    "        min: 2000\n",
    "        max: 2100\n",
    "        value: 2022\n",
    "    greetings:\n",
    "        input: select\n",
    "        label: Please select greetings\n",
    "        value: Hello\n",
    "        choices: [Cześć, Hello, Hi, Ciao, Salut]\n",
    "    name:\n",
    "        input: text\n",
    "        label: What is your name?\n",
    "        value: Piotr\n",
    "    ---"
   ]
  },
  {
   "cell_type": "markdown",
   "id": "766829d0",
   "metadata": {},
   "source": [
    "# 🚀 Demo notebook with greetings 👋"
   ]
  },
  {
   "cell_type": "code",
   "execution_count": null,
   "id": "301da394",
   "metadata": {},
   "outputs": [],
   "source": [
    "year = 2022\n",
    "greetings = \"Hello\"\n",
    "name = \"Piotr\""
   ]
  },
  {
   "cell_type": "code",
   "execution_count": null,
   "id": "130fff9e",
   "metadata": {},
   "outputs": [],
   "source": [
    "print(f\"{greetings} {name} in {year}\")"
   ]
  }
 ],
 "metadata": {
  "kernelspec": {
   "display_name": "Python 3.10.6 ('analysis-grMAaxIw-py3.10')",
   "language": "python",
   "name": "python3"
  },
  "language_info": {
   "name": "python",
   "version": "3.10.6"
  },
  "vscode": {
   "interpreter": {
    "hash": "636661dccab8149683fb0e5a5829fb070a6a7ff4b5e28080ec09ac327f9eff92"
   }
  }
 },
 "nbformat": 4,
 "nbformat_minor": 5
}

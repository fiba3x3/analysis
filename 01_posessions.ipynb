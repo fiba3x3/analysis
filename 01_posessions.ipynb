{
 "cells": [
  {
   "cell_type": "markdown",
   "metadata": {},
   "source": [
    "## Possessions in FIBA 3x3\n",
    "\n",
    "In the [FIBA 3x3's statistician manual](https://fiba3x3.basketball/docs/FIBA-3x3-Statisticians-Manual.pdf), possessions are defined as  \n",
    "> ... the number of times a team had the ball in its control and produced one of the following possession outcomes: one-point field goal attempt (1PTA), two-point field goal attempt (2PTA), a trip to the free-throw line or a turnover (TO). The free throw possessions are calculated by deducting the extra free throw shots (FT-ES) from the total number of free throws attempted (FTA). \n",
    "\n",
    "The formula for counting the number of possessions for one team in one game is $$ POS_{FIBA} = 1PTA + 2PTA + FTA - (FT-ES) + TO$$ This definition of possessions overcounts the number of times a team actually has control of the ball by not taking into account offensive rebounds and free throws resulting from fouled successful field goal attempts. Furthermore, it is possible for two teams playing against each other to have greatly different number of possessions which is a major difference to how possessions are accounted for in full court basketball. \n",
    "\n",
    "Consider this example where team A controls possession of the ball for the entire game by missing all $k$ shots and getting all $k$ possible offensive rebounds where $k$ is an arbitrary positive integer. Team B will end the game with $0$ possessions while team A will have had $k$ possessions. Common sense should dictate that both teams have within +/- 1 the number of possessions from each other. \n",
    "\n",
    "An alternative approach to count the number of possessions in a game would be to count the number of times a team is able to obtain the ball as a result of the other team making a shot withing the arc (1PTM), making a shot outside the arc (2PTM), making a free throw (FTM) minus made free throws from extra free throw shots (FT-ES), missing a shot (DREB) or a turnover (TO).\n",
    "\n",
    "$$POS_{alternative} = 1PTM_{opp} + 2PTM_{opp} + FTM_{opp} - FTM_{FT-ES_{opp}} + TO_{opp} + DREB_{self} $$\n",
    "\n",
    "This is possible to compute from play-by-play data and box scores if FT-ES are included. Ideally, both teams in a game should have within +/- 1 the number of possessions from each other using this approach. A comparison of FIBA's defintion of possession and the aforementioned alternative is presented below for three games in which the number of possessions for each team is determined from the play-by-play.\n",
    "\n",
    "| Team A  \t| Team B    \t| Team A # Possessions \t| Team B # Possessions \t| Team A # Possessions (FIBA) \t| Team B # Possessions (FIBA) \t| Team A # Possessions (alternate) \t| Team B # Possessions (alternate) \t| Game Link \t| Box score link \t|\n",
    "|---------\t|-----------\t|----------------------\t|----------------------\t|-----------------------------\t|-----------------------------\t|----------------------------------\t|----------------------------------\t|-----------\t|----------------\t|\n",
    "| Liman   \t| Jeddah    \t| 28                   \t| 28                   \t| 37                          \t| 34                          \t| 28                               \t| 28                               \t|     [Link](https://www.youtube.com/watch?v=V3P1u-si8m0)        \t|           [Lausanne Master 2022](https://worldtour.fiba3x3.com/2022/lausanne/games/bc33b933-0f88-49d5-a3fc-d812e0b1ca53)      \t|\n",
    "| Antwerp \t| Amsterdam \t| 27                   \t| 26                   \t| 30                          \t| 31                          \t| 26                               \t| 26                               \t|      [Link](https://www.youtube.com/watch?v=a3FBz-fDNW0)     \t|          [Debrecen Master 2022](https://worldtour.fiba3x3.com/2022/debrecen/games/324362ca-ce6d-4b2e-b60f-58ff80477b41/box-score) |\n",
    "| Ub      \t| Hamburg   \t| 31                   \t| 31                   \t| 40                          \t| 36                          \t| 31                               \t| 31                               \t|      [Link](https://www.youtube.com/watch?v=b6rQ2BeI1ik)     \t|       [Prague Master 2022](https://worldtour.fiba3x3.com/2022/prague/games/b7c2a45d-e2fc-4b8d-a450-01c38ef0c62d/box-score)         \t|\n",
    "\n",
    "\n",
    "The number of total possessions in a season from the [pro circuit stats](https://fiba3x3cdn.blob.core.windows.net/documents/Statistics/2022/ProCircuitMen/FIBA_3x3_Pro_Circuit_Stats_After_016_Events.xlsx) can be computed as \n",
    "\n",
    "$$POS_{alternative} = 1PTM + 2PTM + FTM - FTM_{FT-ES} + TO + DREB $$\n",
    "\n",
    "However, since made free throws from extra shot free throws are not included in the pro circuit stats, an estimation for the number of made free throws from extra shot free throws have to be made using the FT% and number of extra shot free throws.\n",
    "\n",
    "$$\n",
    "\\begin{align}\n",
    "POS_{estimate} &= 1PTM + 2PTM + FTM - [FT\\% \\times (FT-ES)] + TO + DREB \\\\ \\\\\n",
    "&= 1PTM + 2PTM + FTM \\times \\left(1  - \\frac{FT-ES}{FTA}\\right) + TO + DREB \\\\\n",
    "\\end{align}\n",
    "$$"
   ]
  },
  {
   "cell_type": "markdown",
   "metadata": {},
   "source": []
  }
 ],
 "metadata": {
  "kernelspec": {
   "display_name": "Python 3.10.6 ('analysis-grMAaxIw-py3.10')",
   "language": "python",
   "name": "python3"
  },
  "language_info": {
   "name": "python",
   "version": "3.10.6"
  },
  "orig_nbformat": 4,
  "vscode": {
   "interpreter": {
    "hash": "636661dccab8149683fb0e5a5829fb070a6a7ff4b5e28080ec09ac327f9eff92"
   }
  }
 },
 "nbformat": 4,
 "nbformat_minor": 2
}

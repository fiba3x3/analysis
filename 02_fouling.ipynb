{
 "cells": [
  {
   "cell_type": "markdown",
   "metadata": {},
   "source": [
    "## 🤬 What is the cost of a foul?\n",
    "  \n",
    "<img src=\"https://newsmedia.tasnimnews.com/Tasnim/Uploaded/Image/1397/06/04/139706042257432815163724.jpg\" alt=\"Drawing\" style=\"width: 500px;\"/>\n",
    "\n",
    "In FIBA 3x3, fouling is a tactic used to prevent the offensive team from scoring easy baskets when the defending team has less than 7 fouls. For fouls 1 to 6, there is no free throw awarded to the team that was fouled unless the foul occured on a shot. For fouls 7 to 9, two free throws are awarded to the fouled team and for fouls 10 and above, two free throws plus possession of the ball are awarded to the fouled team. "
   ]
  },
  {
   "cell_type": "markdown",
   "metadata": {},
   "source": []
  },
  {
   "cell_type": "markdown",
   "metadata": {},
   "source": []
  }
 ],
 "metadata": {
  "kernelspec": {
   "display_name": "Python 3.10.6 ('analysis-grMAaxIw-py3.10')",
   "language": "python",
   "name": "python3"
  },
  "language_info": {
   "name": "python",
   "version": "3.10.6"
  },
  "orig_nbformat": 4,
  "vscode": {
   "interpreter": {
    "hash": "636661dccab8149683fb0e5a5829fb070a6a7ff4b5e28080ec09ac327f9eff92"
   }
  }
 },
 "nbformat": 4,
 "nbformat_minor": 2
}
